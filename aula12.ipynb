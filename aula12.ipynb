{
  "nbformat": 4,
  "nbformat_minor": 0,
  "metadata": {
    "colab": {
      "provenance": [],
      "authorship_tag": "ABX9TyOxwSFQAa8WKvFzKxOgdshL",
      "include_colab_link": true
    },
    "kernelspec": {
      "name": "python3",
      "display_name": "Python 3"
    },
    "language_info": {
      "name": "python"
    }
  },
  "cells": [
    {
      "cell_type": "markdown",
      "metadata": {
        "id": "view-in-github",
        "colab_type": "text"
      },
      "source": [
        "<a href=\"https://colab.research.google.com/github/Daniel-B-Oliveira/Estatistica-Computacional/blob/main/aula12.ipynb\" target=\"_parent\"><img src=\"https://colab.research.google.com/assets/colab-badge.svg\" alt=\"Open In Colab\"/></a>"
      ]
    },
    {
      "cell_type": "markdown",
      "source": [
        "#**Integração de Monte Carlo**"
      ],
      "metadata": {
        "id": "X5e8fTvy8Iva"
      }
    },
    {
      "cell_type": "markdown",
      "source": [
        "Resolva, por meio da integração de monte carlo, a integral\n",
        "\\begin{align}\n",
        "        \\int_0^{1}\\ x^2 \\mathrm{d}x\\\\[1em]\n",
        "    \\end{align}"
      ],
      "metadata": {
        "id": "YZDUNDkQ8Ru_"
      }
    },
    {
      "cell_type": "code",
      "execution_count": 1,
      "metadata": {
        "id": "Rlk4heV88H_G"
      },
      "outputs": [],
      "source": [
        "import numpy as np\n",
        "from numpy import random"
      ]
    },
    {
      "cell_type": "code",
      "source": [
        "a=0\n",
        "b=1\n",
        "n=1000"
      ],
      "metadata": {
        "id": "5by0OlHB8gZP"
      },
      "execution_count": 2,
      "outputs": []
    },
    {
      "cell_type": "code",
      "source": [
        "u=[]"
      ],
      "metadata": {
        "id": "KZ_-IwuL8mXe"
      },
      "execution_count": 3,
      "outputs": []
    },
    {
      "cell_type": "code",
      "source": [
        "for i in range(0,n):\n",
        "  u.append(random.uniform(a,b))"
      ],
      "metadata": {
        "id": "HTToaDzJ8qz6"
      },
      "execution_count": 4,
      "outputs": []
    },
    {
      "cell_type": "code",
      "source": [
        "def f(x):\n",
        "  return x**2"
      ],
      "metadata": {
        "id": "rpAWiBgT9N22"
      },
      "execution_count": 5,
      "outputs": []
    },
    {
      "cell_type": "code",
      "source": [
        "soma=0"
      ],
      "metadata": {
        "id": "1Trm20fG9Srd"
      },
      "execution_count": 6,
      "outputs": []
    },
    {
      "cell_type": "code",
      "source": [
        "for i in u:\n",
        "  soma += f(i)"
      ],
      "metadata": {
        "id": "srLfnaOi9UUq"
      },
      "execution_count": 7,
      "outputs": []
    },
    {
      "cell_type": "code",
      "source": [
        "resultado = (b-a)*soma/n\n",
        "resultado"
      ],
      "metadata": {
        "colab": {
          "base_uri": "https://localhost:8080/"
        },
        "id": "Jycm80EV9YSa",
        "outputId": "660e05c8-9e84-45a8-fbb5-939d859828e4"
      },
      "execution_count": 10,
      "outputs": [
        {
          "output_type": "execute_result",
          "data": {
            "text/plain": [
              "0.3344631927514057"
            ]
          },
          "metadata": {},
          "execution_count": 10
        }
      ]
    },
    {
      "cell_type": "markdown",
      "source": [
        "#**Exercício**\n",
        "Mostre que, $f(x)=20x(1-x)^3$, definida no intervalo de 0 a 1 é uma função densidade de probabilidade por meio da integração de Monte Carlo. Como $f$ é sempre maior ou igual a zero, basta mostra que sua integral no intervalo é 1. Aproxime $E[x]$ e $Var[X]$ por meio da integração de Monte Carlo também."
      ],
      "metadata": {
        "id": "bOu1Dzlr-oDO"
      }
    },
    {
      "cell_type": "code",
      "source": [],
      "metadata": {
        "id": "q-VuBUIk-tNZ"
      },
      "execution_count": null,
      "outputs": []
    }
  ]
}