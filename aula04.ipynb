{
  "nbformat": 4,
  "nbformat_minor": 0,
  "metadata": {
    "colab": {
      "provenance": [],
      "authorship_tag": "ABX9TyM8VX9kkYiDv66SGVAafqvr",
      "include_colab_link": true
    },
    "kernelspec": {
      "name": "python3",
      "display_name": "Python 3"
    },
    "language_info": {
      "name": "python"
    }
  },
  "cells": [
    {
      "cell_type": "markdown",
      "metadata": {
        "id": "view-in-github",
        "colab_type": "text"
      },
      "source": [
        "<a href=\"https://colab.research.google.com/github/Daniel-B-Oliveira/Estatistica-Computacional/blob/main/aula04.ipynb\" target=\"_parent\"><img src=\"https://colab.research.google.com/assets/colab-badge.svg\" alt=\"Open In Colab\"/></a>"
      ]
    },
    {
      "cell_type": "markdown",
      "source": [
        "# Importação e Gráficos\n"
      ],
      "metadata": {
        "id": "D-MMRTlyTIDT"
      }
    },
    {
      "cell_type": "code",
      "source": [
        "# pacote para trab com dados\n",
        "import pandas as pd"
      ],
      "metadata": {
        "id": "lTYwX-U9TN1M"
      },
      "execution_count": 1,
      "outputs": []
    },
    {
      "cell_type": "code",
      "source": [
        "df = pd.read_csv(\"/content/telecom_users.txt\", sep = \";\")\n",
        "#df = pd.read_csv(\"/content/telecom_users.csv\", sep = \";\")\n",
        "#df = pd.read_excel(\"/content/telecom_users.xlsx\")"
      ],
      "metadata": {
        "id": "efhc2xlcUF9k"
      },
      "execution_count": 2,
      "outputs": []
    },
    {
      "cell_type": "code",
      "source": [
        "df.head()\n",
        "nomes = df.columns"
      ],
      "metadata": {
        "id": "OXcJjJgAWDDl"
      },
      "execution_count": 4,
      "outputs": []
    },
    {
      "cell_type": "code",
      "source": [
        "df.shape"
      ],
      "metadata": {
        "collapsed": true,
        "id": "patWzKRWWogp",
        "colab": {
          "base_uri": "https://localhost:8080/"
        },
        "outputId": "fe54dbc4-a566-4597-cdce-1c4bbfbffaf9"
      },
      "execution_count": 6,
      "outputs": [
        {
          "output_type": "execute_result",
          "data": {
            "text/plain": [
              "(5984, 22)"
            ]
          },
          "metadata": {},
          "execution_count": 6
        }
      ]
    },
    {
      "cell_type": "code",
      "source": [
        "df = df.dropna(how=\"any\", axis = 0)\n",
        "print(df.info())"
      ],
      "metadata": {
        "id": "aGlPaEyDo7zn"
      },
      "execution_count": null,
      "outputs": []
    },
    {
      "cell_type": "code",
      "source": [
        "tab_pg = df['FormaPagamento'].value_counts()\n",
        "print(tab_pg)"
      ],
      "metadata": {
        "colab": {
          "base_uri": "https://localhost:8080/"
        },
        "id": "gRZnOWwUpRq6",
        "outputId": "8b10c453-9a1b-4043-9db7-1fbc8bb1b31c"
      },
      "execution_count": 7,
      "outputs": [
        {
          "output_type": "stream",
          "name": "stdout",
          "text": [
            "FormaPagamento\n",
            "BoletoEletronico    2006\n",
            "BoletoImpresso      1368\n",
            "DebitoAutomatico    1307\n",
            "CartaoCredito       1303\n",
            "Name: count, dtype: int64\n"
          ]
        }
      ]
    },
    {
      "cell_type": "code",
      "source": [
        "tab_pg.plot(kind = 'pie', autopct = '%1.2f', ylabel='')\n",
        "#tab_pg.plot(kind = 'pie', autopct = '%.2f', ylabel='')"
      ],
      "metadata": {
        "colab": {
          "base_uri": "https://localhost:8080/",
          "height": 423
        },
        "id": "Q3AiMkDtphjG",
        "outputId": "60d18e3f-3087-49b0-c47a-d0c31fd88080"
      },
      "execution_count": 13,
      "outputs": [
        {
          "output_type": "execute_result",
          "data": {
            "text/plain": [
              "<Axes: >"
            ]
          },
          "metadata": {},
          "execution_count": 13
        },
        {
          "output_type": "display_data",
          "data": {
            "text/plain": [
              "<Figure size 640x480 with 1 Axes>"
            ],
            "image/png": "[encoded data removed]"
          },
          "metadata": {}
        }
      ]
    }
  ]
}