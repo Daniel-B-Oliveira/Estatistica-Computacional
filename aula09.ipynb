{
  "nbformat": 4,
  "nbformat_minor": 0,
  "metadata": {
    "colab": {
      "provenance": [],
      "authorship_tag": "ABX9TyOzljRfVC5IFq+F4SxWpT+I",
      "include_colab_link": true
    },
    "kernelspec": {
      "name": "python3",
      "display_name": "Python 3"
    },
    "language_info": {
      "name": "python"
    }
  },
  "cells": [
    {
      "cell_type": "markdown",
      "metadata": {
        "id": "view-in-github",
        "colab_type": "text"
      },
      "source": [
        "<a href=\"https://colab.research.google.com/github/Daniel-B-Oliveira/Estatistica-Computacional/blob/main/aula09.ipynb\" target=\"_parent\"><img src=\"https://colab.research.google.com/assets/colab-badge.svg\" alt=\"Open In Colab\"/></a>"
      ]
    },
    {
      "cell_type": "markdown",
      "source": [
        "#Teste de Qui-Quadrado"
      ],
      "metadata": {
        "id": "sTReL10vgazR"
      }
    },
    {
      "cell_type": "code",
      "execution_count": 27,
      "metadata": {
        "id": "Ca4Z1kDmgY5F"
      },
      "outputs": [],
      "source": [
        "import pandas as pd\n",
        "import seaborn as sns\n",
        "from scipy.stats import chisquare\n",
        "from scipy.stats import chi2_contingency\n",
        "import numpy as np"
      ]
    },
    {
      "cell_type": "code",
      "source": [
        "df = sns.load_dataset('titanic')"
      ],
      "metadata": {
        "id": "WLBHXeibhiaf"
      },
      "execution_count": 4,
      "outputs": []
    },
    {
      "cell_type": "code",
      "source": [
        "df.info()"
      ],
      "metadata": {
        "collapsed": true,
        "id": "-b0GVgeAiH80"
      },
      "execution_count": null,
      "outputs": []
    },
    {
      "cell_type": "code",
      "source": [
        "display(df)"
      ],
      "metadata": {
        "collapsed": true,
        "id": "x6YlGCLSio69"
      },
      "execution_count": null,
      "outputs": []
    },
    {
      "cell_type": "code",
      "source": [
        "tab1 = df['class'].value_counts()\n",
        "tab1"
      ],
      "metadata": {
        "collapsed": true,
        "id": "OMfcwhJPi9Xl"
      },
      "execution_count": null,
      "outputs": []
    },
    {
      "cell_type": "markdown",
      "source": [
        "É importante prestar atenção na ordem das classes, vão da mais frequente até a menos frequente."
      ],
      "metadata": {
        "id": "vbmYngZpjZbU"
      }
    },
    {
      "cell_type": "code",
      "source": [
        "#Teste de aderência.\n",
        "chisquare(f_obs=tab1, f_exp=None)"
      ],
      "metadata": {
        "id": "vZ2laV1XjEnW"
      },
      "execution_count": null,
      "outputs": []
    },
    {
      "cell_type": "code",
      "source": [
        "freq_esp = tab1.sum()*np.array(([0.55, 0.25, 0.20]))\n",
        "freq_esp"
      ],
      "metadata": {
        "id": "BpUgParLkQFn"
      },
      "execution_count": null,
      "outputs": []
    },
    {
      "cell_type": "code",
      "source": [
        "chisquare(f_obs=tab1, f_exp=freq_esp)"
      ],
      "metadata": {
        "id": "bTbiO5rrmKTr"
      },
      "execution_count": null,
      "outputs": []
    },
    {
      "cell_type": "code",
      "source": [
        "#H0: sobrevivência é independente do sexo\n",
        "tab2 = pd.crosstab(df['sex'], df['survived'])\n",
        "tab2"
      ],
      "metadata": {
        "collapsed": true,
        "id": "kJPB140-mc3-"
      },
      "execution_count": null,
      "outputs": []
    },
    {
      "cell_type": "code",
      "source": [
        "chi2_contingency(tab2)"
      ],
      "metadata": {
        "id": "wvn8hxs-oQPz"
      },
      "execution_count": null,
      "outputs": []
    },
    {
      "cell_type": "code",
      "source": [
        "chi2_contingency(tab2).pvalue"
      ],
      "metadata": {
        "id": "sJPIe_EBo0Cc"
      },
      "execution_count": null,
      "outputs": []
    },
    {
      "cell_type": "code",
      "source": [
        "#H0: Sobrevivência é independente da classe.\n",
        "chi2_contingency(pd.crosstab(df['class'], df['survived']))"
      ],
      "metadata": {
        "collapsed": true,
        "id": "egCWTL6rpWQi"
      },
      "execution_count": null,
      "outputs": []
    },
    {
      "cell_type": "markdown",
      "source": [
        "#Teste de Wilcoxon"
      ],
      "metadata": {
        "id": "cFzfzfY3pqoE"
      }
    },
    {
      "cell_type": "code",
      "source": [
        "import scipy.stats as stats"
      ],
      "metadata": {
        "id": "CK6WNqztrFon"
      },
      "execution_count": 42,
      "outputs": []
    },
    {
      "cell_type": "code",
      "source": [
        "peso_antes = np.array([75, 82, 75, 67])\n",
        "peso_depois = np.array([74, 77, 76, 65])"
      ],
      "metadata": {
        "id": "XDFah5Fupv9T"
      },
      "execution_count": 40,
      "outputs": []
    },
    {
      "cell_type": "code",
      "source": [
        "res = stats.wilcoxon(peso_antes, peso_depois, alternative='greater')\n",
        "res"
      ],
      "metadata": {
        "collapsed": true,
        "id": "OmwlK5e5qifH"
      },
      "execution_count": null,
      "outputs": []
    },
    {
      "cell_type": "code",
      "source": [
        "df2 = df[['age', 'sex', 'class']].dropna()"
      ],
      "metadata": {
        "id": "BIHxMOj7rLCd"
      },
      "execution_count": 35,
      "outputs": []
    },
    {
      "cell_type": "code",
      "source": [
        "x = df2 ['age'] [df2['sex'] == 'male']\n",
        "y = df2 ['age'] [df2['sex'] == 'female']"
      ],
      "metadata": {
        "id": "G1xkUsWarXKN"
      },
      "execution_count": 37,
      "outputs": []
    },
    {
      "cell_type": "code",
      "source": [
        "[stats.shapiro(x),stats.shapiro(y)]"
      ],
      "metadata": {
        "id": "ZMNJD04zruaP"
      },
      "execution_count": null,
      "outputs": []
    },
    {
      "cell_type": "code",
      "source": [
        "#H0: As idades dos homens e mulheres são iguais\n",
        "#H1: As idades dos homens e mulheres são difentes\n",
        "stats.mannwhitneyu(x,y)"
      ],
      "metadata": {
        "id": "DpbHK9XMsP97"
      },
      "execution_count": null,
      "outputs": []
    },
    {
      "cell_type": "code",
      "source": [
        "z1 = df2 ['age'] [df2['class'] == 'First']\n",
        "z2 = df2 ['age'] [df2['class'] == 'Second']\n",
        "z3 = df2 ['age'] [df2['class'] == 'Third']"
      ],
      "metadata": {
        "id": "TiLtdnuasrKt"
      },
      "execution_count": 46,
      "outputs": []
    },
    {
      "cell_type": "code",
      "source": [
        "[stats.shapiro(z1), stats.shapiro(z2), stats.shapiro(z3)]"
      ],
      "metadata": {
        "collapsed": true,
        "id": "V84wImFxuCdn"
      },
      "execution_count": null,
      "outputs": []
    },
    {
      "cell_type": "code",
      "source": [
        "#H0: as dist. das idades das classes sao iguais\n",
        "#H1: as dist. das idades das classes sao diferentes\n",
        "stats.kruskal(z1,z2,z3)"
      ],
      "metadata": {
        "id": "kckhnQCgtmCh"
      },
      "execution_count": null,
      "outputs": []
    },
    {
      "cell_type": "code",
      "source": [],
      "metadata": {
        "id": "Xf0PMH2HuOgA"
      },
      "execution_count": null,
      "outputs": []
    }
  ]
}